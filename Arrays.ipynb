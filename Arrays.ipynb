{
 "cells": [
  {
   "cell_type": "markdown",
   "id": "ba892dca-4fa6-4283-86f0-1b71265992b1",
   "metadata": {},
   "source": [
    "# Array Functions"
   ]
  },
  {
   "cell_type": "code",
   "execution_count": 1,
   "id": "67a6778e-bafb-474f-b10f-5e6f6ba72e8f",
   "metadata": {},
   "outputs": [],
   "source": [
    "import numpy as np"
   ]
  },
  {
   "cell_type": "code",
   "execution_count": 2,
   "id": "0bb6101f-d790-4764-aaea-8c76eea1adc6",
   "metadata": {},
   "outputs": [
    {
     "data": {
      "text/plain": [
       "array([ 10. ,   2. , 100. ,   0.3,   2. ,   1.5])"
      ]
     },
     "execution_count": 2,
     "metadata": {},
     "output_type": "execute_result"
    }
   ],
   "source": [
    "#have both int and float but for output it will convert all of them into float\n",
    "a=np.array([10,2,100,0.3,2,1.5])\n",
    "a"
   ]
  },
  {
   "cell_type": "code",
   "execution_count": 3,
   "id": "d270846c-6fea-4c18-90e3-6e32d9f69a38",
   "metadata": {},
   "outputs": [
    {
     "data": {
      "text/plain": [
       "array([  0.3,   1.5,   2. ,   2. ,  10. , 100. ])"
      ]
     },
     "execution_count": 3,
     "metadata": {},
     "output_type": "execute_result"
    }
   ],
   "source": [
    "a.sort()\n",
    "a"
   ]
  },
  {
   "cell_type": "code",
   "execution_count": 4,
   "id": "37cb8786-d3d5-4399-a447-e75dc1e9d97c",
   "metadata": {},
   "outputs": [],
   "source": [
    "b=np.array([12,3,71,2.8,22,9.9])"
   ]
  },
  {
   "cell_type": "code",
   "execution_count": 5,
   "id": "363bbc23-c291-4e7b-affc-d984b9725503",
   "metadata": {},
   "outputs": [
    {
     "data": {
      "text/plain": [
       "array([  0.3,   1.5,   2. ,   2. ,  10. , 100. ,  12. ,   3. ,  71. ,\n",
       "         2.8,  22. ,   9.9])"
      ]
     },
     "execution_count": 5,
     "metadata": {},
     "output_type": "execute_result"
    }
   ],
   "source": [
    "c=np.concatenate((a,b))\n",
    "c"
   ]
  },
  {
   "cell_type": "code",
   "execution_count": 6,
   "id": "f745bae1-6599-45ea-b9cb-2f144145c549",
   "metadata": {},
   "outputs": [
    {
     "data": {
      "text/plain": [
       "array([  0.3,   1.5,   2. ,   2. ,   2.8,   3. ,   9.9,  10. ,  12. ,\n",
       "        22. ,  71. , 100. ])"
      ]
     },
     "execution_count": 6,
     "metadata": {},
     "output_type": "execute_result"
    }
   ],
   "source": [
    "c.sort()\n",
    "c"
   ]
  },
  {
   "cell_type": "markdown",
   "id": "930f45c2-1706-49f0-bb4b-cf282a5e80ad",
   "metadata": {},
   "source": [
    "2D Array"
   ]
  },
  {
   "cell_type": "code",
   "execution_count": 7,
   "id": "3bb7fcc4-bb42-47a5-9f66-d8c53267a87a",
   "metadata": {},
   "outputs": [
    {
     "data": {
      "text/plain": [
       "array([[1, 2, 3],\n",
       "       [6, 7, 8]])"
      ]
     },
     "execution_count": 7,
     "metadata": {},
     "output_type": "execute_result"
    }
   ],
   "source": [
    "a=np.array([[1,2,3],[6,7,8]])\n",
    "a"
   ]
  },
  {
   "cell_type": "code",
   "execution_count": 8,
   "id": "38c08e29-76f2-46ec-bf48-ca43fac35977",
   "metadata": {},
   "outputs": [
    {
     "data": {
      "text/plain": [
       "array([[3, 2, 1],\n",
       "       [1, 2, 3]])"
      ]
     },
     "execution_count": 8,
     "metadata": {},
     "output_type": "execute_result"
    }
   ],
   "source": [
    "b=np.array([[3,2,1],[1,2,3]])\n",
    "b"
   ]
  },
  {
   "cell_type": "code",
   "execution_count": 9,
   "id": "8c5a098a-0bae-4040-95e8-135f8c59f235",
   "metadata": {},
   "outputs": [
    {
     "data": {
      "text/plain": [
       "array([[1, 2, 3],\n",
       "       [6, 7, 8],\n",
       "       [3, 2, 1],\n",
       "       [1, 2, 3]])"
      ]
     },
     "execution_count": 9,
     "metadata": {},
     "output_type": "execute_result"
    }
   ],
   "source": [
    "c=np.concatenate((a,b),axis=0)\n",
    "c"
   ]
  },
  {
   "cell_type": "code",
   "execution_count": 10,
   "id": "567c3175-8dcd-4dbb-ad71-6340323b0a61",
   "metadata": {},
   "outputs": [
    {
     "data": {
      "text/plain": [
       "array([[1, 2, 3, 3, 2, 1],\n",
       "       [6, 7, 8, 1, 2, 3]])"
      ]
     },
     "execution_count": 10,
     "metadata": {},
     "output_type": "execute_result"
    }
   ],
   "source": [
    "c=np.concatenate((a,b),axis=1)\n",
    "c"
   ]
  },
  {
   "cell_type": "code",
   "execution_count": 11,
   "id": "8b60466a-078e-4499-892c-7039db57dc02",
   "metadata": {},
   "outputs": [
    {
     "data": {
      "text/plain": [
       "array([[[1, 2, 3],\n",
       "        [2, 1, 1]],\n",
       "\n",
       "       [[2, 3, 4],\n",
       "        [5, 6, 7]],\n",
       "\n",
       "       [[8, 4, 5],\n",
       "        [3, 6, 0]]])"
      ]
     },
     "execution_count": 11,
     "metadata": {},
     "output_type": "execute_result"
    }
   ],
   "source": [
    "d=np.array([[[1,2,3],\n",
    "            [2,1,1]],\n",
    "           [[2,3,4],\n",
    "           [5,6,7]],\n",
    "           [[8,4,5],\n",
    "            [3,6,0]]]\n",
    ")\n",
    "d"
   ]
  },
  {
   "cell_type": "code",
   "execution_count": 12,
   "id": "78f77647-a6f2-42b6-bb00-d8f55e7a5daf",
   "metadata": {},
   "outputs": [
    {
     "data": {
      "text/plain": [
       "3"
      ]
     },
     "execution_count": 12,
     "metadata": {},
     "output_type": "execute_result"
    }
   ],
   "source": [
    "#to find dimensin\n",
    "d.ndim"
   ]
  },
  {
   "cell_type": "code",
   "execution_count": 13,
   "id": "2d8f5db0-0226-4ab6-b1c8-3abe154c17af",
   "metadata": {},
   "outputs": [
    {
     "data": {
      "text/plain": [
       "18"
      ]
     },
     "execution_count": 13,
     "metadata": {},
     "output_type": "execute_result"
    }
   ],
   "source": [
    "#number of elements(in size)\n",
    "d.size"
   ]
  },
  {
   "cell_type": "code",
   "execution_count": 14,
   "id": "6552d6be-8a05-4b4c-986c-e9ba17720f8d",
   "metadata": {},
   "outputs": [
    {
     "data": {
      "text/plain": [
       "(3, 2, 3)"
      ]
     },
     "execution_count": 14,
     "metadata": {},
     "output_type": "execute_result"
    }
   ],
   "source": [
    "#shape(proper like 3 array,then on y axis (|)2 elements in col and 3 on x axis(_))\n",
    "d.shape"
   ]
  },
  {
   "cell_type": "code",
   "execution_count": 15,
   "id": "3275e608-a139-43d3-ad8e-d85393d80bad",
   "metadata": {},
   "outputs": [
    {
     "data": {
      "text/plain": [
       "array([[1, 2, 3, 6, 7, 8]])"
      ]
     },
     "execution_count": 15,
     "metadata": {},
     "output_type": "execute_result"
    }
   ],
   "source": [
    "#reshape(in col wise)\n",
    "np.reshape(a,newshape=(1,6),order='C')"
   ]
  },
  {
   "cell_type": "code",
   "execution_count": 16,
   "id": "9336cefe-918a-4bf5-b1dd-9d117f3744ab",
   "metadata": {},
   "outputs": [
    {
     "data": {
      "text/plain": [
       "(4,)"
      ]
     },
     "execution_count": 16,
     "metadata": {},
     "output_type": "execute_result"
    }
   ],
   "source": [
    "#convert 1d into 2d\n",
    "a=np.array([1,2,3,4])\n",
    "a.shape"
   ]
  },
  {
   "cell_type": "code",
   "execution_count": 17,
   "id": "cc62a41d-2d33-46e9-95b9-8b28ed919e96",
   "metadata": {},
   "outputs": [
    {
     "data": {
      "text/plain": [
       "array([[1, 2, 3, 4]])"
      ]
     },
     "execution_count": 17,
     "metadata": {},
     "output_type": "execute_result"
    }
   ],
   "source": [
    "#row wise\n",
    "b=a[np.newaxis,:]\n",
    "b"
   ]
  },
  {
   "cell_type": "code",
   "execution_count": 18,
   "id": "cc890683-f78b-43da-bdd5-45db5ab459e0",
   "metadata": {},
   "outputs": [
    {
     "data": {
      "text/plain": [
       "(1, 4)"
      ]
     },
     "execution_count": 18,
     "metadata": {},
     "output_type": "execute_result"
    }
   ],
   "source": [
    "b.shape"
   ]
  },
  {
   "cell_type": "code",
   "execution_count": 19,
   "id": "170a677a-67a8-4042-95e1-5ea5ab67fb4f",
   "metadata": {},
   "outputs": [
    {
     "data": {
      "text/plain": [
       "array([[1],\n",
       "       [2],\n",
       "       [3],\n",
       "       [4]])"
      ]
     },
     "execution_count": 19,
     "metadata": {},
     "output_type": "execute_result"
    }
   ],
   "source": [
    "#col wise\n",
    "c=a[:,np.newaxis]\n",
    "c"
   ]
  },
  {
   "cell_type": "code",
   "execution_count": 20,
   "id": "1a173da9-808e-4499-b9d6-3550e3ad0c22",
   "metadata": {},
   "outputs": [
    {
     "data": {
      "text/plain": [
       "10"
      ]
     },
     "execution_count": 20,
     "metadata": {},
     "output_type": "execute_result"
    }
   ],
   "source": [
    "a.sum()"
   ]
  },
  {
   "cell_type": "code",
   "execution_count": 21,
   "id": "b9fc8456-4b03-4f2b-9e5e-5f0ad30ff0f8",
   "metadata": {},
   "outputs": [
    {
     "data": {
      "text/plain": [
       "array([2, 4, 6, 8])"
      ]
     },
     "execution_count": 21,
     "metadata": {},
     "output_type": "execute_result"
    }
   ],
   "source": [
    "a*2"
   ]
  },
  {
   "cell_type": "code",
   "execution_count": 22,
   "id": "d561d3e4-da84-4aed-a0fb-cb765b0ad506",
   "metadata": {},
   "outputs": [
    {
     "data": {
      "text/plain": [
       "array([4, 5, 6, 7])"
      ]
     },
     "execution_count": 22,
     "metadata": {},
     "output_type": "execute_result"
    }
   ],
   "source": [
    "a+3"
   ]
  },
  {
   "cell_type": "code",
   "execution_count": null,
   "id": "f2609fde-e205-4128-9574-c866266472be",
   "metadata": {},
   "outputs": [],
   "source": []
  }
 ],
 "metadata": {
  "kernelspec": {
   "display_name": "Python 3 (ipykernel)",
   "language": "python",
   "name": "python3"
  },
  "language_info": {
   "codemirror_mode": {
    "name": "ipython",
    "version": 3
   },
   "file_extension": ".py",
   "mimetype": "text/x-python",
   "name": "python",
   "nbconvert_exporter": "python",
   "pygments_lexer": "ipython3",
   "version": "3.12.7"
  }
 },
 "nbformat": 4,
 "nbformat_minor": 5
}
